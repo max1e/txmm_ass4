{
 "cells": [
  {
   "cell_type": "code",
   "id": "d9eb3c6b635e9ed6",
   "metadata": {
    "ExecuteTime": {
     "end_time": "2024-11-18T11:32:37.721403Z",
     "start_time": "2024-11-18T11:32:35.217545Z"
    }
   },
   "source": [
    "import numpy as np\n",
    "import pandas as pd\n",
    "import matplotlib.pyplot as plt\n",
    "\n",
    "import torch\n",
    "from torch import nn\n",
    "from torch.utils.data import DataLoader\n",
    "\n",
    "import sklearn\n",
    "import nltk\n",
    "nltk.download('punkt')\n",
    "nltk.download('averaged_perceptron_tagger_eng')\n",
    "nltk.download('universal_tagset')\n",
    "\n",
    "from scripts.feature_extraction import load_features, perform_feature_extraction, save_features\n",
    "from scripts.network import Pan2425Dataset, AuthorIdentificationNetwork"
   ],
   "outputs": [
    {
     "name": "stderr",
     "output_type": "stream",
     "text": [
      "[nltk_data] Downloading package punkt to\n",
      "[nltk_data]     /Users/maxneerken/nltk_data...\n",
      "[nltk_data]   Package punkt is already up-to-date!\n",
      "[nltk_data] Downloading package averaged_perceptron_tagger_eng to\n",
      "[nltk_data]     /Users/maxneerken/nltk_data...\n",
      "[nltk_data]   Package averaged_perceptron_tagger_eng is already up-to-\n",
      "[nltk_data]       date!\n",
      "[nltk_data] Downloading package universal_tagset to\n",
      "[nltk_data]     /Users/maxneerken/nltk_data...\n",
      "[nltk_data]   Package universal_tagset is already up-to-date!\n"
     ]
    }
   ],
   "execution_count": 1
  },
  {
   "cell_type": "markdown",
   "id": "7ff55ba3d3cd7e11",
   "metadata": {},
   "source": [
    "## Data retrieval"
   ]
  },
  {
   "cell_type": "code",
   "id": "8c79cc502b20d9a4",
   "metadata": {
    "ExecuteTime": {
     "end_time": "2024-11-18T11:32:37.805014Z",
     "start_time": "2024-11-18T11:32:37.733526Z"
    }
   },
   "source": [
    "data = {\n",
    "    'dev': pd.read_csv('data/pan2425_dev_data.csv'),\n",
    "    'train': pd.read_csv('data/pan2425_train_data.csv'),\n",
    "    'test': pd.read_csv('data/pan2425_test_data.csv')\n",
    "}"
   ],
   "outputs": [],
   "execution_count": 2
  },
  {
   "cell_type": "markdown",
   "id": "2f868ac8002b5072",
   "metadata": {},
   "source": [
    "## Feature extraction"
   ]
  },
  {
   "cell_type": "code",
   "id": "4f9916162fbc744b",
   "metadata": {
    "ExecuteTime": {
     "end_time": "2024-11-18T11:32:37.926869Z",
     "start_time": "2024-11-18T11:32:37.899463Z"
    }
   },
   "source": [
    "extract = False\n",
    "\n",
    "author_mapping = {560480: 0, 512464: 1, 2750536: 2, 1112924: 3, 29783: 4, 910821: 5, 1497577: 6, 748687: 7,\n",
    "                  1220273: 8, 870118: 9, 1276465: 10, 2943978: 11, 806976: 12, 2855986: 13, 6234395: 14,\n",
    "                  240213: 15, 583064: 16, 583994: 17, 967934: 18, 3439302: 19}\n",
    "\n",
    "if extract:\n",
    "    train_features, train_labels = perform_feature_extraction(data['train'], author_mapping)\n",
    "    save_features(train_features, train_labels, './data', 'train')\n",
    "    \n",
    "    val_features, val_labels = perform_feature_extraction(data['train'], author_mapping)\n",
    "    save_features(val_features, val_labels, './data', 'train')\n",
    "    \n",
    "    test_features, test_labels = perform_feature_extraction(data['test'], author_mapping)\n",
    "    save_features(test_features, test_labels, './data', 'test')\n",
    "else:\n",
    "    train_features, train_labels = load_features('./data', 'train')\n",
    "    val_features, val_labels = load_features('./data', 'val')\n",
    "    test_features, test_labels = load_features('./data', 'test')"
   ],
   "outputs": [],
   "execution_count": 3
  },
  {
   "cell_type": "markdown",
   "id": "126c944267a92d9d",
   "metadata": {},
   "source": [
    "## Model training and evaluation"
   ]
  },
  {
   "cell_type": "code",
   "id": "e622fcec",
   "metadata": {
    "ExecuteTime": {
     "end_time": "2024-11-18T14:28:04.894675Z",
     "start_time": "2024-11-18T14:28:04.881938Z"
    }
   },
   "source": [
    "from scripts.network import train, plot_training\n",
    "\n",
    "train_set = Pan2425Dataset(train_features, train_labels.flatten())\n",
    "val_set = Pan2425Dataset(val_features, val_labels.flatten())\n",
    "\n",
    "train_loader = DataLoader(train_set, shuffle=True, batch_size=64)\n",
    "val_loader = DataLoader(val_set, shuffle=False, batch_size=32)\n",
    "\n",
    "net = AuthorIdentificationNetwork()\n",
    "train_loss, val_loss, train_acc, val_acc = train(net, train_loader, val_loader, epochs=100)\n",
    "plot_training(train_loss, val_loss, train_acc, val_acc, epochs=100)"
   ],
   "outputs": [
    {
     "ename": "ImportError",
     "evalue": "cannot import name 'train' from 'scripts.network' (/Users/maxneerken/Documents/Text & Multimedia Mining/Assignment 4/scripts/network.py)",
     "output_type": "error",
     "traceback": [
      "\u001B[0;31m---------------------------------------------------------------------------\u001B[0m",
      "\u001B[0;31mImportError\u001B[0m                               Traceback (most recent call last)",
      "Cell \u001B[0;32mIn[61], line 1\u001B[0m\n\u001B[0;32m----> 1\u001B[0m \u001B[38;5;28;01mfrom\u001B[39;00m \u001B[38;5;21;01mscripts\u001B[39;00m\u001B[38;5;21;01m.\u001B[39;00m\u001B[38;5;21;01mnetwork\u001B[39;00m \u001B[38;5;28;01mimport\u001B[39;00m train, plot_training\n\u001B[1;32m      3\u001B[0m train_set \u001B[38;5;241m=\u001B[39m Pan2425Dataset(train_features, train_labels\u001B[38;5;241m.\u001B[39mflatten())\n\u001B[1;32m      4\u001B[0m val_set \u001B[38;5;241m=\u001B[39m Pan2425Dataset(val_features, val_labels\u001B[38;5;241m.\u001B[39mflatten())\n",
      "\u001B[0;31mImportError\u001B[0m: cannot import name 'train' from 'scripts.network' (/Users/maxneerken/Documents/Text & Multimedia Mining/Assignment 4/scripts/network.py)"
     ]
    }
   ],
   "execution_count": 61
  },
  {
   "metadata": {
    "ExecuteTime": {
     "end_time": "2024-11-18T13:09:51.976375Z",
     "start_time": "2024-11-18T13:09:51.969197Z"
    }
   },
   "cell_type": "code",
   "source": [
    "\n",
    "def evaluate(net: nn.Module, test_loader: DataLoader):\n",
    "    labels = []\n",
    "    predictions = []\n",
    "    with torch.no_grad():\n",
    "        for x, y in test_loader:\n",
    "            # compute the prediction given the input x\n",
    "            output = net.forward(x)\n",
    "            prediction = torch.argmax(output, dim=1)\n",
    "            \n",
    "            predictions.extend(prediction.detach().cpu().numpy())\n",
    "            labels.extend(y.detach().cpu().numpy())\n",
    "            \n",
    "    labels = np.array(labels)\n",
    "    predictions = np.array(predictions)\n",
    "    \n",
    "    recall = sklearn.metrics.recall_score(labels, predictions, average='macro')\n",
    "    precision = sklearn.metrics.precision_score(labels, predictions, average='macro')\n",
    "    f1_score = sklearn.metrics.f1_score(labels, predictions, average='macro')\n",
    "    \n",
    "    return recall, precision, f1_score\n"
   ],
   "id": "adf30d298e0117f",
   "outputs": [],
   "execution_count": 46
  },
  {
   "metadata": {
    "ExecuteTime": {
     "end_time": "2024-11-18T13:14:51.378819Z",
     "start_time": "2024-11-18T13:14:51.362185Z"
    }
   },
   "cell_type": "code",
   "source": [
    "test_set = Pan2425Dataset(test_features, test_labels)\n",
    "test_loader = DataLoader(test_set, shuffle=False, batch_size=32)\n",
    "\n",
    "model_recall, model_precision, model_f_score = evaluate(net, test_loader=test_loader)\n",
    "\n",
    "print(f'Recall: {round(model_recall, 2)}')\n",
    "print(f'Precision: {round(model_precision, 2)}')\n",
    "print(f'F-Score: {round(model_f_score, 2)}')"
   ],
   "id": "aeb203087a61411d",
   "outputs": [
    {
     "name": "stdout",
     "output_type": "stream",
     "text": [
      "Recall: 0.67\n",
      "Precision: 0.71\n",
      "F-Score: 0.66\n"
     ]
    }
   ],
   "execution_count": 50
  },
  {
   "cell_type": "markdown",
   "id": "5bf0807ae3f74f00",
   "metadata": {},
   "source": [
    "## Ablation analysis"
   ]
  },
  {
   "metadata": {},
   "cell_type": "code",
   "source": [
    "n_features = 175\n",
    "ablation_results = []\n",
    "\n",
    "train_set = Pan2425Dataset(train_features, train_labels)\n",
    "val_set = Pan2425Dataset(val_features, val_labels)\n",
    "test_set = Pan2425Dataset(test_features, test_labels)\n",
    "\n",
    "for i in range(n_features):\n",
    "    print(f'Ablating feature [{i+1}/{n_features}]')\n",
    "\n",
    "    # Ablate\n",
    "    train_set = train_set.remove_feature(i)\n",
    "    val_set = val_set.remove_feature(i)\n",
    "    test_set = test_set.remove_feature(i)\n",
    "\n",
    "    train_loader = DataLoader(train_set, shuffle=True, batch_size=64)\n",
    "    val_loader = DataLoader(val_set, shuffle=False, batch_size=64)\n",
    "    test_loader = DataLoader(test_set, shuffle=False, batch_size=64)\n",
    "\n",
    "    # Fit model\n",
    "    model = AuthorIdentificationNetwork(input_features=174)\n",
    "    train(model, train_loader, val_loader, epochs=40)\n",
    "\n",
    "    # Test model\n",
    "    metrics = evaluate(model, test_loader)\n",
    "    ablation_results.append(metrics)\n",
    "\n",
    "    # Deblate\n",
    "    train_set = train_set.restore_feature()\n",
    "    val_set = val_set.restore_feature()\n",
    "    test_set = test_set.restore_feature()\n",
    "\n",
    "ablation_df = pd.DataFrame(ablation_results, columns=['Recall', 'Precision', 'F-Score'])\n",
    "ablation_df.to_csv('Ablation_results.csv', index=False)"
   ],
   "id": "3c892a1c36d9a9e1",
   "outputs": [],
   "execution_count": null
  },
  {
   "metadata": {},
   "cell_type": "code",
   "outputs": [],
   "execution_count": null,
   "source": [
    "symbols_indices = []\n",
    "alphabets_indices = []\n",
    "pos_indices = []"
   ],
   "id": "cbadcc03b0f6bd28"
  },
  {
   "metadata": {
    "ExecuteTime": {
     "end_time": "2024-11-18T14:17:41.819180Z",
     "start_time": "2024-11-18T14:17:41.812848Z"
    }
   },
   "cell_type": "code",
   "source": [
    "chars = [\n",
    "        'ADJ', 'ADP', 'ADV', 'AUX', 'CCONJ', 'DET', 'INTJ', 'NOUN', 'NUM',\n",
    "        'PART', 'PRON', 'PROPN', 'PUNCT', 'SCONJ', 'SYM', 'VERB', 'X'\n",
    "    ]\n",
    "len(chars)"
   ],
   "id": "625c5e4b96affe36",
   "outputs": [
    {
     "data": {
      "text/plain": [
       "17"
      ]
     },
     "execution_count": 58,
     "metadata": {},
     "output_type": "execute_result"
    }
   ],
   "execution_count": 58
  },
  {
   "metadata": {
    "ExecuteTime": {
     "end_time": "2024-11-18T13:22:15.423553Z",
     "start_time": "2024-11-18T13:22:15.365108Z"
    }
   },
   "cell_type": "code",
   "source": [
    "import plotly.express as px\n",
    "import pandas as pd\n",
    "\n",
    "# Assuming ablation_df, f_scores, and model_f_score are defined\n",
    "ablation_df = pd.DataFrame(ablation_results, columns=['Recall', 'Precision', 'F-Score'])\n",
    "f_scores = ablation_df[['F-Score']].to_numpy().flatten()\n",
    "\n",
    "# Define your model baseline F-Score\n",
    "model_f_score = 0.75  # Replace with your actual baseline value\n",
    "\n",
    "# Compute the difference with the baseline\n",
    "f_score_diff = f_scores - model_f_score\n",
    "\n",
    "# Create a DataFrame for Plotly\n",
    "plotly_df = pd.DataFrame({\n",
    "    'Feature': [f\"F{i+1}\" for i in range(len(f_scores))],  # Shorter feature labels\n",
    "    'F-Score Difference': f_score_diff,\n",
    "    'Detailed Feature Name': [f\"Feature {i+1}\" for i in range(len(f_scores))]  # For tooltips\n",
    "})\n",
    "\n",
    "# Create an interactive bar chart\n",
    "fig = px.bar(\n",
    "    plotly_df,\n",
    "    x='Feature',\n",
    "    y='F-Score Difference',\n",
    "    title=\"Effect of Feature Removal on F-Score\",\n",
    "    labels={'Feature': 'Removed Feature', 'F-Score Difference': 'F-Score change'},\n",
    "    color='F-Score Difference',\n",
    "    color_continuous_scale='RdYlGn',\n",
    ")\n",
    "\n",
    "# Add a horizontal line at zero for easy comparison\n",
    "fig.add_hline(\n",
    "    y=0,\n",
    "    line_dash=\"solid\",\n",
    "    line_color=\"black\",\n",
    "    annotation_text=f\"Baseline F-Score: {model_f_score}\",\n",
    "    annotation_position=\"top left\"\n",
    ")\n",
    "\n",
    "# Reduce x-axis label clutter\n",
    "fig.update_layout(\n",
    "    xaxis=dict(\n",
    "        tickmode='array',\n",
    "        tickvals=list(range(0, len(f_scores), 10)),  # Show every 10th label\n",
    "        ticktext=[f\"F{i+1}\" for i in range(0, len(f_scores), 10)],  # Corresponding shorter labels\n",
    "        title='Removed Feature'\n",
    "    ),\n",
    "    yaxis=dict(\n",
    "        title='Change in F-Score'\n",
    "    ),\n",
    "    height=600,  # Adjust height for better visualization\n",
    "    margin=dict(l=40, r=40, t=40, b=100)\n",
    ")\n",
    "\n",
    "# Show the plot\n",
    "fig.show()\n"
   ],
   "id": "ff42517681de2e3c",
   "outputs": [
    {
     "data": {
      "application/vnd.plotly.v1+json": {
       "data": [
        {
         "alignmentgroup": "True",
         "hovertemplate": "Removed Feature=%{x}<br>F-Score change=%{marker.color}<extra></extra>",
         "legendgroup": "",
         "marker": {
          "color": [
           -0.1308186792434285,
           -0.12919040026647455,
           -0.13467870350391387,
           -0.13270365301807963,
           -0.15819992614161293,
           -0.14583305520666112,
           -0.10897595620046496,
           -0.10843047575031917,
           -0.13111003145148126,
           -0.12073895762516407,
           -0.11517918952041206,
           -0.10842491846641711,
           -0.1537597978134031,
           -0.13899473786880479,
           -0.14932792250461913,
           -0.15240699177616024,
           -0.1354698684246003,
           -0.1276951695156121,
           -0.15833454355712373,
           -0.14137053144573408,
           -0.10740369545208461,
           -0.1902470083131298,
           -0.12193135259855492,
           -0.13473538959329523,
           -0.10520766030511663,
           -0.16255712870272376,
           -0.15547877774939833,
           -0.10918747280816254,
           -0.13384571342979268,
           -0.14561421037811495,
           -0.14206064104814486,
           -0.1379884267235184,
           -0.13808581561383626,
           -0.10578612744232452,
           -0.14002832323563685,
           -0.1253267690686639,
           -0.15977599953996624,
           -0.11787498844217903,
           -0.1338252311164464,
           -0.1322104234108672,
           -0.11597026850620662,
           -0.11686764118566884,
           -0.12141386126733167,
           -0.1410205600899972,
           -0.09261361084211961,
           -0.13777975412559473,
           -0.15982401441973715,
           -0.1334266641960541,
           -0.13998153830643345,
           -0.12026525318778147,
           -0.1117909939388102,
           -0.13352410555094207,
           -0.12100901484647619,
           -0.14407158061842895,
           -0.13221260646788502,
           -0.12117402626890306,
           -0.10941705129348156,
           -0.10915328841853777,
           -0.09753716711677074,
           -0.10823167310012083,
           -0.12011687405853122,
           -0.15494822150647014,
           -0.1445605542530397,
           -0.15765372520361098,
           -0.11840618927939639,
           -0.142043402397651,
           -0.1386004898940204,
           -0.11474405693472634,
           -0.12412249216967908,
           -0.15198608351390985,
           -0.09728724902669517,
           -0.1053172729912315,
           -0.12045472081233144,
           -0.14970813195611987,
           -0.13906853761472837,
           -0.10690869520327051,
           -0.13171450492135628,
           -0.12948476407134457,
           -0.08652662904751973,
           -0.11726507946632114,
           -0.12764257843824645,
           -0.12288052031154106,
           -0.09273333545160178,
           -0.15158405178443268,
           -0.1349467834403696,
           -0.13767381053152683,
           -0.1571120779814006,
           -0.1345410173097894,
           -0.14924868125291613,
           -0.15343466353613855,
           -0.16514764565696827,
           -0.1573440439509658,
           -0.11872167267737521,
           -0.13138339720699954,
           -0.16451696718433628,
           -0.157094899215944,
           -0.13729456911749005,
           -0.13015218410247986,
           -0.12156270509911804,
           -0.12875522936049233,
           -0.1259649785555359,
           -0.12102454139005325,
           -0.15413938597097565,
           -0.11474041882164154,
           -0.10325610423560683,
           -0.1492691191499509,
           -0.13535678465056022,
           -0.1454381738097783,
           -0.14196592245734796,
           -0.07418855296335136,
           -0.1539140742889351,
           -0.12473748232345128,
           -0.1074248029032091,
           -0.12380244201964574,
           -0.13681840803325218,
           -0.13938224292214108,
           -0.11552767484064941,
           -0.13502426123082711,
           -0.11860256895441701,
           -0.156931492944819,
           -0.09870295191698453,
           -0.15151181359485577,
           -0.13313213628628418,
           -0.12865009544161832,
           -0.12850352109562635,
           -0.14322730467930012,
           -0.10205014326116668,
           -0.12455220271406153,
           -0.08887178356446646,
           -0.0931388936879024,
           -0.14963370424335387,
           -0.13266530967876633,
           -0.17083957805085404,
           -0.11263125555897013,
           -0.11683640316029054,
           -0.09849923663616722,
           -0.11575574078964901,
           -0.12586132056990484,
           -0.11392915416582228,
           -0.12425558846611495,
           -0.16758439587317486,
           -0.12142599504561136,
           -0.13963857608418662,
           -0.1263196614146822,
           -0.11084117884919342,
           -0.15293868381287945,
           -0.15058949763972262,
           -0.13671145847801192,
           -0.11561787552921354,
           -0.19222643046691634,
           -0.1045446162203103,
           -0.08039998696677464,
           -0.08366900838499713,
           -0.11575784767202157,
           -0.13499059576645778,
           -0.10687268122603633,
           -0.11471338911922424,
           -0.1227519921257465,
           -0.1309415760172199,
           -0.13165469881713077,
           -0.11188819853545362,
           -0.13284327197303591,
           -0.13003049960102264,
           -0.1506521161014196,
           -0.13917520083063506,
           -0.13575855548351135,
           -0.1300398867601753,
           -0.15457346589724474,
           -0.15261856481794012,
           -0.12187158198910841,
           -0.12495528643067566,
           -0.11909291456302618,
           -0.15072847638920994,
           -0.14217616259050114,
           -0.12518253085900155
          ],
          "coloraxis": "coloraxis",
          "pattern": {
           "shape": ""
          }
         },
         "name": "",
         "offsetgroup": "",
         "orientation": "v",
         "showlegend": false,
         "textposition": "auto",
         "x": [
          "F1",
          "F2",
          "F3",
          "F4",
          "F5",
          "F6",
          "F7",
          "F8",
          "F9",
          "F10",
          "F11",
          "F12",
          "F13",
          "F14",
          "F15",
          "F16",
          "F17",
          "F18",
          "F19",
          "F20",
          "F21",
          "F22",
          "F23",
          "F24",
          "F25",
          "F26",
          "F27",
          "F28",
          "F29",
          "F30",
          "F31",
          "F32",
          "F33",
          "F34",
          "F35",
          "F36",
          "F37",
          "F38",
          "F39",
          "F40",
          "F41",
          "F42",
          "F43",
          "F44",
          "F45",
          "F46",
          "F47",
          "F48",
          "F49",
          "F50",
          "F51",
          "F52",
          "F53",
          "F54",
          "F55",
          "F56",
          "F57",
          "F58",
          "F59",
          "F60",
          "F61",
          "F62",
          "F63",
          "F64",
          "F65",
          "F66",
          "F67",
          "F68",
          "F69",
          "F70",
          "F71",
          "F72",
          "F73",
          "F74",
          "F75",
          "F76",
          "F77",
          "F78",
          "F79",
          "F80",
          "F81",
          "F82",
          "F83",
          "F84",
          "F85",
          "F86",
          "F87",
          "F88",
          "F89",
          "F90",
          "F91",
          "F92",
          "F93",
          "F94",
          "F95",
          "F96",
          "F97",
          "F98",
          "F99",
          "F100",
          "F101",
          "F102",
          "F103",
          "F104",
          "F105",
          "F106",
          "F107",
          "F108",
          "F109",
          "F110",
          "F111",
          "F112",
          "F113",
          "F114",
          "F115",
          "F116",
          "F117",
          "F118",
          "F119",
          "F120",
          "F121",
          "F122",
          "F123",
          "F124",
          "F125",
          "F126",
          "F127",
          "F128",
          "F129",
          "F130",
          "F131",
          "F132",
          "F133",
          "F134",
          "F135",
          "F136",
          "F137",
          "F138",
          "F139",
          "F140",
          "F141",
          "F142",
          "F143",
          "F144",
          "F145",
          "F146",
          "F147",
          "F148",
          "F149",
          "F150",
          "F151",
          "F152",
          "F153",
          "F154",
          "F155",
          "F156",
          "F157",
          "F158",
          "F159",
          "F160",
          "F161",
          "F162",
          "F163",
          "F164",
          "F165",
          "F166",
          "F167",
          "F168",
          "F169",
          "F170",
          "F171",
          "F172",
          "F173",
          "F174",
          "F175"
         ],
         "xaxis": "x",
         "y": [
          -0.1308186792434285,
          -0.12919040026647455,
          -0.13467870350391387,
          -0.13270365301807963,
          -0.15819992614161293,
          -0.14583305520666112,
          -0.10897595620046496,
          -0.10843047575031917,
          -0.13111003145148126,
          -0.12073895762516407,
          -0.11517918952041206,
          -0.10842491846641711,
          -0.1537597978134031,
          -0.13899473786880479,
          -0.14932792250461913,
          -0.15240699177616024,
          -0.1354698684246003,
          -0.1276951695156121,
          -0.15833454355712373,
          -0.14137053144573408,
          -0.10740369545208461,
          -0.1902470083131298,
          -0.12193135259855492,
          -0.13473538959329523,
          -0.10520766030511663,
          -0.16255712870272376,
          -0.15547877774939833,
          -0.10918747280816254,
          -0.13384571342979268,
          -0.14561421037811495,
          -0.14206064104814486,
          -0.1379884267235184,
          -0.13808581561383626,
          -0.10578612744232452,
          -0.14002832323563685,
          -0.1253267690686639,
          -0.15977599953996624,
          -0.11787498844217903,
          -0.1338252311164464,
          -0.1322104234108672,
          -0.11597026850620662,
          -0.11686764118566884,
          -0.12141386126733167,
          -0.1410205600899972,
          -0.09261361084211961,
          -0.13777975412559473,
          -0.15982401441973715,
          -0.1334266641960541,
          -0.13998153830643345,
          -0.12026525318778147,
          -0.1117909939388102,
          -0.13352410555094207,
          -0.12100901484647619,
          -0.14407158061842895,
          -0.13221260646788502,
          -0.12117402626890306,
          -0.10941705129348156,
          -0.10915328841853777,
          -0.09753716711677074,
          -0.10823167310012083,
          -0.12011687405853122,
          -0.15494822150647014,
          -0.1445605542530397,
          -0.15765372520361098,
          -0.11840618927939639,
          -0.142043402397651,
          -0.1386004898940204,
          -0.11474405693472634,
          -0.12412249216967908,
          -0.15198608351390985,
          -0.09728724902669517,
          -0.1053172729912315,
          -0.12045472081233144,
          -0.14970813195611987,
          -0.13906853761472837,
          -0.10690869520327051,
          -0.13171450492135628,
          -0.12948476407134457,
          -0.08652662904751973,
          -0.11726507946632114,
          -0.12764257843824645,
          -0.12288052031154106,
          -0.09273333545160178,
          -0.15158405178443268,
          -0.1349467834403696,
          -0.13767381053152683,
          -0.1571120779814006,
          -0.1345410173097894,
          -0.14924868125291613,
          -0.15343466353613855,
          -0.16514764565696827,
          -0.1573440439509658,
          -0.11872167267737521,
          -0.13138339720699954,
          -0.16451696718433628,
          -0.157094899215944,
          -0.13729456911749005,
          -0.13015218410247986,
          -0.12156270509911804,
          -0.12875522936049233,
          -0.1259649785555359,
          -0.12102454139005325,
          -0.15413938597097565,
          -0.11474041882164154,
          -0.10325610423560683,
          -0.1492691191499509,
          -0.13535678465056022,
          -0.1454381738097783,
          -0.14196592245734796,
          -0.07418855296335136,
          -0.1539140742889351,
          -0.12473748232345128,
          -0.1074248029032091,
          -0.12380244201964574,
          -0.13681840803325218,
          -0.13938224292214108,
          -0.11552767484064941,
          -0.13502426123082711,
          -0.11860256895441701,
          -0.156931492944819,
          -0.09870295191698453,
          -0.15151181359485577,
          -0.13313213628628418,
          -0.12865009544161832,
          -0.12850352109562635,
          -0.14322730467930012,
          -0.10205014326116668,
          -0.12455220271406153,
          -0.08887178356446646,
          -0.0931388936879024,
          -0.14963370424335387,
          -0.13266530967876633,
          -0.17083957805085404,
          -0.11263125555897013,
          -0.11683640316029054,
          -0.09849923663616722,
          -0.11575574078964901,
          -0.12586132056990484,
          -0.11392915416582228,
          -0.12425558846611495,
          -0.16758439587317486,
          -0.12142599504561136,
          -0.13963857608418662,
          -0.1263196614146822,
          -0.11084117884919342,
          -0.15293868381287945,
          -0.15058949763972262,
          -0.13671145847801192,
          -0.11561787552921354,
          -0.19222643046691634,
          -0.1045446162203103,
          -0.08039998696677464,
          -0.08366900838499713,
          -0.11575784767202157,
          -0.13499059576645778,
          -0.10687268122603633,
          -0.11471338911922424,
          -0.1227519921257465,
          -0.1309415760172199,
          -0.13165469881713077,
          -0.11188819853545362,
          -0.13284327197303591,
          -0.13003049960102264,
          -0.1506521161014196,
          -0.13917520083063506,
          -0.13575855548351135,
          -0.1300398867601753,
          -0.15457346589724474,
          -0.15261856481794012,
          -0.12187158198910841,
          -0.12495528643067566,
          -0.11909291456302618,
          -0.15072847638920994,
          -0.14217616259050114,
          -0.12518253085900155
         ],
         "yaxis": "y",
         "type": "bar"
        }
       ],
       "layout": {
        "template": {
         "data": {
          "histogram2dcontour": [
           {
            "type": "histogram2dcontour",
            "colorbar": {
             "outlinewidth": 0,
             "ticks": ""
            },
            "colorscale": [
             [
              0.0,
              "#0d0887"
             ],
             [
              0.1111111111111111,
              "#46039f"
             ],
             [
              0.2222222222222222,
              "#7201a8"
             ],
             [
              0.3333333333333333,
              "#9c179e"
             ],
             [
              0.4444444444444444,
              "#bd3786"
             ],
             [
              0.5555555555555556,
              "#d8576b"
             ],
             [
              0.6666666666666666,
              "#ed7953"
             ],
             [
              0.7777777777777778,
              "#fb9f3a"
             ],
             [
              0.8888888888888888,
              "#fdca26"
             ],
             [
              1.0,
              "#f0f921"
             ]
            ]
           }
          ],
          "choropleth": [
           {
            "type": "choropleth",
            "colorbar": {
             "outlinewidth": 0,
             "ticks": ""
            }
           }
          ],
          "histogram2d": [
           {
            "type": "histogram2d",
            "colorbar": {
             "outlinewidth": 0,
             "ticks": ""
            },
            "colorscale": [
             [
              0.0,
              "#0d0887"
             ],
             [
              0.1111111111111111,
              "#46039f"
             ],
             [
              0.2222222222222222,
              "#7201a8"
             ],
             [
              0.3333333333333333,
              "#9c179e"
             ],
             [
              0.4444444444444444,
              "#bd3786"
             ],
             [
              0.5555555555555556,
              "#d8576b"
             ],
             [
              0.6666666666666666,
              "#ed7953"
             ],
             [
              0.7777777777777778,
              "#fb9f3a"
             ],
             [
              0.8888888888888888,
              "#fdca26"
             ],
             [
              1.0,
              "#f0f921"
             ]
            ]
           }
          ],
          "heatmap": [
           {
            "type": "heatmap",
            "colorbar": {
             "outlinewidth": 0,
             "ticks": ""
            },
            "colorscale": [
             [
              0.0,
              "#0d0887"
             ],
             [
              0.1111111111111111,
              "#46039f"
             ],
             [
              0.2222222222222222,
              "#7201a8"
             ],
             [
              0.3333333333333333,
              "#9c179e"
             ],
             [
              0.4444444444444444,
              "#bd3786"
             ],
             [
              0.5555555555555556,
              "#d8576b"
             ],
             [
              0.6666666666666666,
              "#ed7953"
             ],
             [
              0.7777777777777778,
              "#fb9f3a"
             ],
             [
              0.8888888888888888,
              "#fdca26"
             ],
             [
              1.0,
              "#f0f921"
             ]
            ]
           }
          ],
          "heatmapgl": [
           {
            "type": "heatmapgl",
            "colorbar": {
             "outlinewidth": 0,
             "ticks": ""
            },
            "colorscale": [
             [
              0.0,
              "#0d0887"
             ],
             [
              0.1111111111111111,
              "#46039f"
             ],
             [
              0.2222222222222222,
              "#7201a8"
             ],
             [
              0.3333333333333333,
              "#9c179e"
             ],
             [
              0.4444444444444444,
              "#bd3786"
             ],
             [
              0.5555555555555556,
              "#d8576b"
             ],
             [
              0.6666666666666666,
              "#ed7953"
             ],
             [
              0.7777777777777778,
              "#fb9f3a"
             ],
             [
              0.8888888888888888,
              "#fdca26"
             ],
             [
              1.0,
              "#f0f921"
             ]
            ]
           }
          ],
          "contourcarpet": [
           {
            "type": "contourcarpet",
            "colorbar": {
             "outlinewidth": 0,
             "ticks": ""
            }
           }
          ],
          "contour": [
           {
            "type": "contour",
            "colorbar": {
             "outlinewidth": 0,
             "ticks": ""
            },
            "colorscale": [
             [
              0.0,
              "#0d0887"
             ],
             [
              0.1111111111111111,
              "#46039f"
             ],
             [
              0.2222222222222222,
              "#7201a8"
             ],
             [
              0.3333333333333333,
              "#9c179e"
             ],
             [
              0.4444444444444444,
              "#bd3786"
             ],
             [
              0.5555555555555556,
              "#d8576b"
             ],
             [
              0.6666666666666666,
              "#ed7953"
             ],
             [
              0.7777777777777778,
              "#fb9f3a"
             ],
             [
              0.8888888888888888,
              "#fdca26"
             ],
             [
              1.0,
              "#f0f921"
             ]
            ]
           }
          ],
          "surface": [
           {
            "type": "surface",
            "colorbar": {
             "outlinewidth": 0,
             "ticks": ""
            },
            "colorscale": [
             [
              0.0,
              "#0d0887"
             ],
             [
              0.1111111111111111,
              "#46039f"
             ],
             [
              0.2222222222222222,
              "#7201a8"
             ],
             [
              0.3333333333333333,
              "#9c179e"
             ],
             [
              0.4444444444444444,
              "#bd3786"
             ],
             [
              0.5555555555555556,
              "#d8576b"
             ],
             [
              0.6666666666666666,
              "#ed7953"
             ],
             [
              0.7777777777777778,
              "#fb9f3a"
             ],
             [
              0.8888888888888888,
              "#fdca26"
             ],
             [
              1.0,
              "#f0f921"
             ]
            ]
           }
          ],
          "mesh3d": [
           {
            "type": "mesh3d",
            "colorbar": {
             "outlinewidth": 0,
             "ticks": ""
            }
           }
          ],
          "scatter": [
           {
            "fillpattern": {
             "fillmode": "overlay",
             "size": 10,
             "solidity": 0.2
            },
            "type": "scatter"
           }
          ],
          "parcoords": [
           {
            "type": "parcoords",
            "line": {
             "colorbar": {
              "outlinewidth": 0,
              "ticks": ""
             }
            }
           }
          ],
          "scatterpolargl": [
           {
            "type": "scatterpolargl",
            "marker": {
             "colorbar": {
              "outlinewidth": 0,
              "ticks": ""
             }
            }
           }
          ],
          "bar": [
           {
            "error_x": {
             "color": "#2a3f5f"
            },
            "error_y": {
             "color": "#2a3f5f"
            },
            "marker": {
             "line": {
              "color": "#E5ECF6",
              "width": 0.5
             },
             "pattern": {
              "fillmode": "overlay",
              "size": 10,
              "solidity": 0.2
             }
            },
            "type": "bar"
           }
          ],
          "scattergeo": [
           {
            "type": "scattergeo",
            "marker": {
             "colorbar": {
              "outlinewidth": 0,
              "ticks": ""
             }
            }
           }
          ],
          "scatterpolar": [
           {
            "type": "scatterpolar",
            "marker": {
             "colorbar": {
              "outlinewidth": 0,
              "ticks": ""
             }
            }
           }
          ],
          "histogram": [
           {
            "marker": {
             "pattern": {
              "fillmode": "overlay",
              "size": 10,
              "solidity": 0.2
             }
            },
            "type": "histogram"
           }
          ],
          "scattergl": [
           {
            "type": "scattergl",
            "marker": {
             "colorbar": {
              "outlinewidth": 0,
              "ticks": ""
             }
            }
           }
          ],
          "scatter3d": [
           {
            "type": "scatter3d",
            "line": {
             "colorbar": {
              "outlinewidth": 0,
              "ticks": ""
             }
            },
            "marker": {
             "colorbar": {
              "outlinewidth": 0,
              "ticks": ""
             }
            }
           }
          ],
          "scattermapbox": [
           {
            "type": "scattermapbox",
            "marker": {
             "colorbar": {
              "outlinewidth": 0,
              "ticks": ""
             }
            }
           }
          ],
          "scatterternary": [
           {
            "type": "scatterternary",
            "marker": {
             "colorbar": {
              "outlinewidth": 0,
              "ticks": ""
             }
            }
           }
          ],
          "scattercarpet": [
           {
            "type": "scattercarpet",
            "marker": {
             "colorbar": {
              "outlinewidth": 0,
              "ticks": ""
             }
            }
           }
          ],
          "carpet": [
           {
            "aaxis": {
             "endlinecolor": "#2a3f5f",
             "gridcolor": "white",
             "linecolor": "white",
             "minorgridcolor": "white",
             "startlinecolor": "#2a3f5f"
            },
            "baxis": {
             "endlinecolor": "#2a3f5f",
             "gridcolor": "white",
             "linecolor": "white",
             "minorgridcolor": "white",
             "startlinecolor": "#2a3f5f"
            },
            "type": "carpet"
           }
          ],
          "table": [
           {
            "cells": {
             "fill": {
              "color": "#EBF0F8"
             },
             "line": {
              "color": "white"
             }
            },
            "header": {
             "fill": {
              "color": "#C8D4E3"
             },
             "line": {
              "color": "white"
             }
            },
            "type": "table"
           }
          ],
          "barpolar": [
           {
            "marker": {
             "line": {
              "color": "#E5ECF6",
              "width": 0.5
             },
             "pattern": {
              "fillmode": "overlay",
              "size": 10,
              "solidity": 0.2
             }
            },
            "type": "barpolar"
           }
          ],
          "pie": [
           {
            "automargin": true,
            "type": "pie"
           }
          ]
         },
         "layout": {
          "autotypenumbers": "strict",
          "colorway": [
           "#636efa",
           "#EF553B",
           "#00cc96",
           "#ab63fa",
           "#FFA15A",
           "#19d3f3",
           "#FF6692",
           "#B6E880",
           "#FF97FF",
           "#FECB52"
          ],
          "font": {
           "color": "#2a3f5f"
          },
          "hovermode": "closest",
          "hoverlabel": {
           "align": "left"
          },
          "paper_bgcolor": "white",
          "plot_bgcolor": "#E5ECF6",
          "polar": {
           "bgcolor": "#E5ECF6",
           "angularaxis": {
            "gridcolor": "white",
            "linecolor": "white",
            "ticks": ""
           },
           "radialaxis": {
            "gridcolor": "white",
            "linecolor": "white",
            "ticks": ""
           }
          },
          "ternary": {
           "bgcolor": "#E5ECF6",
           "aaxis": {
            "gridcolor": "white",
            "linecolor": "white",
            "ticks": ""
           },
           "baxis": {
            "gridcolor": "white",
            "linecolor": "white",
            "ticks": ""
           },
           "caxis": {
            "gridcolor": "white",
            "linecolor": "white",
            "ticks": ""
           }
          },
          "coloraxis": {
           "colorbar": {
            "outlinewidth": 0,
            "ticks": ""
           }
          },
          "colorscale": {
           "sequential": [
            [
             0.0,
             "#0d0887"
            ],
            [
             0.1111111111111111,
             "#46039f"
            ],
            [
             0.2222222222222222,
             "#7201a8"
            ],
            [
             0.3333333333333333,
             "#9c179e"
            ],
            [
             0.4444444444444444,
             "#bd3786"
            ],
            [
             0.5555555555555556,
             "#d8576b"
            ],
            [
             0.6666666666666666,
             "#ed7953"
            ],
            [
             0.7777777777777778,
             "#fb9f3a"
            ],
            [
             0.8888888888888888,
             "#fdca26"
            ],
            [
             1.0,
             "#f0f921"
            ]
           ],
           "sequentialminus": [
            [
             0.0,
             "#0d0887"
            ],
            [
             0.1111111111111111,
             "#46039f"
            ],
            [
             0.2222222222222222,
             "#7201a8"
            ],
            [
             0.3333333333333333,
             "#9c179e"
            ],
            [
             0.4444444444444444,
             "#bd3786"
            ],
            [
             0.5555555555555556,
             "#d8576b"
            ],
            [
             0.6666666666666666,
             "#ed7953"
            ],
            [
             0.7777777777777778,
             "#fb9f3a"
            ],
            [
             0.8888888888888888,
             "#fdca26"
            ],
            [
             1.0,
             "#f0f921"
            ]
           ],
           "diverging": [
            [
             0,
             "#8e0152"
            ],
            [
             0.1,
             "#c51b7d"
            ],
            [
             0.2,
             "#de77ae"
            ],
            [
             0.3,
             "#f1b6da"
            ],
            [
             0.4,
             "#fde0ef"
            ],
            [
             0.5,
             "#f7f7f7"
            ],
            [
             0.6,
             "#e6f5d0"
            ],
            [
             0.7,
             "#b8e186"
            ],
            [
             0.8,
             "#7fbc41"
            ],
            [
             0.9,
             "#4d9221"
            ],
            [
             1,
             "#276419"
            ]
           ]
          },
          "xaxis": {
           "gridcolor": "white",
           "linecolor": "white",
           "ticks": "",
           "title": {
            "standoff": 15
           },
           "zerolinecolor": "white",
           "automargin": true,
           "zerolinewidth": 2
          },
          "yaxis": {
           "gridcolor": "white",
           "linecolor": "white",
           "ticks": "",
           "title": {
            "standoff": 15
           },
           "zerolinecolor": "white",
           "automargin": true,
           "zerolinewidth": 2
          },
          "scene": {
           "xaxis": {
            "backgroundcolor": "#E5ECF6",
            "gridcolor": "white",
            "linecolor": "white",
            "showbackground": true,
            "ticks": "",
            "zerolinecolor": "white",
            "gridwidth": 2
           },
           "yaxis": {
            "backgroundcolor": "#E5ECF6",
            "gridcolor": "white",
            "linecolor": "white",
            "showbackground": true,
            "ticks": "",
            "zerolinecolor": "white",
            "gridwidth": 2
           },
           "zaxis": {
            "backgroundcolor": "#E5ECF6",
            "gridcolor": "white",
            "linecolor": "white",
            "showbackground": true,
            "ticks": "",
            "zerolinecolor": "white",
            "gridwidth": 2
           }
          },
          "shapedefaults": {
           "line": {
            "color": "#2a3f5f"
           }
          },
          "annotationdefaults": {
           "arrowcolor": "#2a3f5f",
           "arrowhead": 0,
           "arrowwidth": 1
          },
          "geo": {
           "bgcolor": "white",
           "landcolor": "#E5ECF6",
           "subunitcolor": "white",
           "showland": true,
           "showlakes": true,
           "lakecolor": "white"
          },
          "title": {
           "x": 0.05
          },
          "mapbox": {
           "style": "light"
          }
         }
        },
        "xaxis": {
         "anchor": "y",
         "domain": [
          0.0,
          1.0
         ],
         "title": {
          "text": "Removed Feature"
         },
         "tickmode": "array",
         "tickvals": [
          0,
          10,
          20,
          30,
          40,
          50,
          60,
          70,
          80,
          90,
          100,
          110,
          120,
          130,
          140,
          150,
          160,
          170
         ],
         "ticktext": [
          "F1",
          "F11",
          "F21",
          "F31",
          "F41",
          "F51",
          "F61",
          "F71",
          "F81",
          "F91",
          "F101",
          "F111",
          "F121",
          "F131",
          "F141",
          "F151",
          "F161",
          "F171"
         ]
        },
        "yaxis": {
         "anchor": "x",
         "domain": [
          0.0,
          1.0
         ],
         "title": {
          "text": "Change in F-Score"
         }
        },
        "coloraxis": {
         "colorbar": {
          "title": {
           "text": "F-Score change"
          }
         },
         "colorscale": [
          [
           0.0,
           "rgb(165,0,38)"
          ],
          [
           0.1,
           "rgb(215,48,39)"
          ],
          [
           0.2,
           "rgb(244,109,67)"
          ],
          [
           0.3,
           "rgb(253,174,97)"
          ],
          [
           0.4,
           "rgb(254,224,139)"
          ],
          [
           0.5,
           "rgb(255,255,191)"
          ],
          [
           0.6,
           "rgb(217,239,139)"
          ],
          [
           0.7,
           "rgb(166,217,106)"
          ],
          [
           0.8,
           "rgb(102,189,99)"
          ],
          [
           0.9,
           "rgb(26,152,80)"
          ],
          [
           1.0,
           "rgb(0,104,55)"
          ]
         ]
        },
        "legend": {
         "tracegroupgap": 0
        },
        "title": {
         "text": "Effect of Feature Removal on F-Score"
        },
        "barmode": "relative",
        "shapes": [
         {
          "line": {
           "color": "black",
           "dash": "solid"
          },
          "type": "line",
          "x0": 0,
          "x1": 1,
          "xref": "x domain",
          "y0": 0,
          "y1": 0,
          "yref": "y"
         }
        ],
        "annotations": [
         {
          "showarrow": false,
          "text": "Baseline F-Score: 0.75",
          "x": 0,
          "xanchor": "left",
          "xref": "x domain",
          "y": 0,
          "yanchor": "bottom",
          "yref": "y"
         }
        ],
        "margin": {
         "l": 40,
         "r": 40,
         "t": 40,
         "b": 100
        },
        "height": 600
       },
       "config": {
        "plotlyServerURL": "https://plot.ly"
       }
      },
      "text/html": [
       "<div>                            <div id=\"3ee66699-34db-49c1-836b-874eaf81fa14\" class=\"plotly-graph-div\" style=\"height:600px; width:100%;\"></div>            <script type=\"text/javascript\">                require([\"plotly\"], function(Plotly) {                    window.PLOTLYENV=window.PLOTLYENV || {};                                    if (document.getElementById(\"3ee66699-34db-49c1-836b-874eaf81fa14\")) {                    Plotly.newPlot(                        \"3ee66699-34db-49c1-836b-874eaf81fa14\",                        [{\"alignmentgroup\":\"True\",\"hovertemplate\":\"Removed Feature=%{x}\\u003cbr\\u003eF-Score change=%{marker.color}\\u003cextra\\u003e\\u003c\\u002fextra\\u003e\",\"legendgroup\":\"\",\"marker\":{\"color\":[-0.1308186792434285,-0.12919040026647455,-0.13467870350391387,-0.13270365301807963,-0.15819992614161293,-0.14583305520666112,-0.10897595620046496,-0.10843047575031917,-0.13111003145148126,-0.12073895762516407,-0.11517918952041206,-0.10842491846641711,-0.1537597978134031,-0.13899473786880479,-0.14932792250461913,-0.15240699177616024,-0.1354698684246003,-0.1276951695156121,-0.15833454355712373,-0.14137053144573408,-0.10740369545208461,-0.1902470083131298,-0.12193135259855492,-0.13473538959329523,-0.10520766030511663,-0.16255712870272376,-0.15547877774939833,-0.10918747280816254,-0.13384571342979268,-0.14561421037811495,-0.14206064104814486,-0.1379884267235184,-0.13808581561383626,-0.10578612744232452,-0.14002832323563685,-0.1253267690686639,-0.15977599953996624,-0.11787498844217903,-0.1338252311164464,-0.1322104234108672,-0.11597026850620662,-0.11686764118566884,-0.12141386126733167,-0.1410205600899972,-0.09261361084211961,-0.13777975412559473,-0.15982401441973715,-0.1334266641960541,-0.13998153830643345,-0.12026525318778147,-0.1117909939388102,-0.13352410555094207,-0.12100901484647619,-0.14407158061842895,-0.13221260646788502,-0.12117402626890306,-0.10941705129348156,-0.10915328841853777,-0.09753716711677074,-0.10823167310012083,-0.12011687405853122,-0.15494822150647014,-0.1445605542530397,-0.15765372520361098,-0.11840618927939639,-0.142043402397651,-0.1386004898940204,-0.11474405693472634,-0.12412249216967908,-0.15198608351390985,-0.09728724902669517,-0.1053172729912315,-0.12045472081233144,-0.14970813195611987,-0.13906853761472837,-0.10690869520327051,-0.13171450492135628,-0.12948476407134457,-0.08652662904751973,-0.11726507946632114,-0.12764257843824645,-0.12288052031154106,-0.09273333545160178,-0.15158405178443268,-0.1349467834403696,-0.13767381053152683,-0.1571120779814006,-0.1345410173097894,-0.14924868125291613,-0.15343466353613855,-0.16514764565696827,-0.1573440439509658,-0.11872167267737521,-0.13138339720699954,-0.16451696718433628,-0.157094899215944,-0.13729456911749005,-0.13015218410247986,-0.12156270509911804,-0.12875522936049233,-0.1259649785555359,-0.12102454139005325,-0.15413938597097565,-0.11474041882164154,-0.10325610423560683,-0.1492691191499509,-0.13535678465056022,-0.1454381738097783,-0.14196592245734796,-0.07418855296335136,-0.1539140742889351,-0.12473748232345128,-0.1074248029032091,-0.12380244201964574,-0.13681840803325218,-0.13938224292214108,-0.11552767484064941,-0.13502426123082711,-0.11860256895441701,-0.156931492944819,-0.09870295191698453,-0.15151181359485577,-0.13313213628628418,-0.12865009544161832,-0.12850352109562635,-0.14322730467930012,-0.10205014326116668,-0.12455220271406153,-0.08887178356446646,-0.0931388936879024,-0.14963370424335387,-0.13266530967876633,-0.17083957805085404,-0.11263125555897013,-0.11683640316029054,-0.09849923663616722,-0.11575574078964901,-0.12586132056990484,-0.11392915416582228,-0.12425558846611495,-0.16758439587317486,-0.12142599504561136,-0.13963857608418662,-0.1263196614146822,-0.11084117884919342,-0.15293868381287945,-0.15058949763972262,-0.13671145847801192,-0.11561787552921354,-0.19222643046691634,-0.1045446162203103,-0.08039998696677464,-0.08366900838499713,-0.11575784767202157,-0.13499059576645778,-0.10687268122603633,-0.11471338911922424,-0.1227519921257465,-0.1309415760172199,-0.13165469881713077,-0.11188819853545362,-0.13284327197303591,-0.13003049960102264,-0.1506521161014196,-0.13917520083063506,-0.13575855548351135,-0.1300398867601753,-0.15457346589724474,-0.15261856481794012,-0.12187158198910841,-0.12495528643067566,-0.11909291456302618,-0.15072847638920994,-0.14217616259050114,-0.12518253085900155],\"coloraxis\":\"coloraxis\",\"pattern\":{\"shape\":\"\"}},\"name\":\"\",\"offsetgroup\":\"\",\"orientation\":\"v\",\"showlegend\":false,\"textposition\":\"auto\",\"x\":[\"F1\",\"F2\",\"F3\",\"F4\",\"F5\",\"F6\",\"F7\",\"F8\",\"F9\",\"F10\",\"F11\",\"F12\",\"F13\",\"F14\",\"F15\",\"F16\",\"F17\",\"F18\",\"F19\",\"F20\",\"F21\",\"F22\",\"F23\",\"F24\",\"F25\",\"F26\",\"F27\",\"F28\",\"F29\",\"F30\",\"F31\",\"F32\",\"F33\",\"F34\",\"F35\",\"F36\",\"F37\",\"F38\",\"F39\",\"F40\",\"F41\",\"F42\",\"F43\",\"F44\",\"F45\",\"F46\",\"F47\",\"F48\",\"F49\",\"F50\",\"F51\",\"F52\",\"F53\",\"F54\",\"F55\",\"F56\",\"F57\",\"F58\",\"F59\",\"F60\",\"F61\",\"F62\",\"F63\",\"F64\",\"F65\",\"F66\",\"F67\",\"F68\",\"F69\",\"F70\",\"F71\",\"F72\",\"F73\",\"F74\",\"F75\",\"F76\",\"F77\",\"F78\",\"F79\",\"F80\",\"F81\",\"F82\",\"F83\",\"F84\",\"F85\",\"F86\",\"F87\",\"F88\",\"F89\",\"F90\",\"F91\",\"F92\",\"F93\",\"F94\",\"F95\",\"F96\",\"F97\",\"F98\",\"F99\",\"F100\",\"F101\",\"F102\",\"F103\",\"F104\",\"F105\",\"F106\",\"F107\",\"F108\",\"F109\",\"F110\",\"F111\",\"F112\",\"F113\",\"F114\",\"F115\",\"F116\",\"F117\",\"F118\",\"F119\",\"F120\",\"F121\",\"F122\",\"F123\",\"F124\",\"F125\",\"F126\",\"F127\",\"F128\",\"F129\",\"F130\",\"F131\",\"F132\",\"F133\",\"F134\",\"F135\",\"F136\",\"F137\",\"F138\",\"F139\",\"F140\",\"F141\",\"F142\",\"F143\",\"F144\",\"F145\",\"F146\",\"F147\",\"F148\",\"F149\",\"F150\",\"F151\",\"F152\",\"F153\",\"F154\",\"F155\",\"F156\",\"F157\",\"F158\",\"F159\",\"F160\",\"F161\",\"F162\",\"F163\",\"F164\",\"F165\",\"F166\",\"F167\",\"F168\",\"F169\",\"F170\",\"F171\",\"F172\",\"F173\",\"F174\",\"F175\"],\"xaxis\":\"x\",\"y\":[-0.1308186792434285,-0.12919040026647455,-0.13467870350391387,-0.13270365301807963,-0.15819992614161293,-0.14583305520666112,-0.10897595620046496,-0.10843047575031917,-0.13111003145148126,-0.12073895762516407,-0.11517918952041206,-0.10842491846641711,-0.1537597978134031,-0.13899473786880479,-0.14932792250461913,-0.15240699177616024,-0.1354698684246003,-0.1276951695156121,-0.15833454355712373,-0.14137053144573408,-0.10740369545208461,-0.1902470083131298,-0.12193135259855492,-0.13473538959329523,-0.10520766030511663,-0.16255712870272376,-0.15547877774939833,-0.10918747280816254,-0.13384571342979268,-0.14561421037811495,-0.14206064104814486,-0.1379884267235184,-0.13808581561383626,-0.10578612744232452,-0.14002832323563685,-0.1253267690686639,-0.15977599953996624,-0.11787498844217903,-0.1338252311164464,-0.1322104234108672,-0.11597026850620662,-0.11686764118566884,-0.12141386126733167,-0.1410205600899972,-0.09261361084211961,-0.13777975412559473,-0.15982401441973715,-0.1334266641960541,-0.13998153830643345,-0.12026525318778147,-0.1117909939388102,-0.13352410555094207,-0.12100901484647619,-0.14407158061842895,-0.13221260646788502,-0.12117402626890306,-0.10941705129348156,-0.10915328841853777,-0.09753716711677074,-0.10823167310012083,-0.12011687405853122,-0.15494822150647014,-0.1445605542530397,-0.15765372520361098,-0.11840618927939639,-0.142043402397651,-0.1386004898940204,-0.11474405693472634,-0.12412249216967908,-0.15198608351390985,-0.09728724902669517,-0.1053172729912315,-0.12045472081233144,-0.14970813195611987,-0.13906853761472837,-0.10690869520327051,-0.13171450492135628,-0.12948476407134457,-0.08652662904751973,-0.11726507946632114,-0.12764257843824645,-0.12288052031154106,-0.09273333545160178,-0.15158405178443268,-0.1349467834403696,-0.13767381053152683,-0.1571120779814006,-0.1345410173097894,-0.14924868125291613,-0.15343466353613855,-0.16514764565696827,-0.1573440439509658,-0.11872167267737521,-0.13138339720699954,-0.16451696718433628,-0.157094899215944,-0.13729456911749005,-0.13015218410247986,-0.12156270509911804,-0.12875522936049233,-0.1259649785555359,-0.12102454139005325,-0.15413938597097565,-0.11474041882164154,-0.10325610423560683,-0.1492691191499509,-0.13535678465056022,-0.1454381738097783,-0.14196592245734796,-0.07418855296335136,-0.1539140742889351,-0.12473748232345128,-0.1074248029032091,-0.12380244201964574,-0.13681840803325218,-0.13938224292214108,-0.11552767484064941,-0.13502426123082711,-0.11860256895441701,-0.156931492944819,-0.09870295191698453,-0.15151181359485577,-0.13313213628628418,-0.12865009544161832,-0.12850352109562635,-0.14322730467930012,-0.10205014326116668,-0.12455220271406153,-0.08887178356446646,-0.0931388936879024,-0.14963370424335387,-0.13266530967876633,-0.17083957805085404,-0.11263125555897013,-0.11683640316029054,-0.09849923663616722,-0.11575574078964901,-0.12586132056990484,-0.11392915416582228,-0.12425558846611495,-0.16758439587317486,-0.12142599504561136,-0.13963857608418662,-0.1263196614146822,-0.11084117884919342,-0.15293868381287945,-0.15058949763972262,-0.13671145847801192,-0.11561787552921354,-0.19222643046691634,-0.1045446162203103,-0.08039998696677464,-0.08366900838499713,-0.11575784767202157,-0.13499059576645778,-0.10687268122603633,-0.11471338911922424,-0.1227519921257465,-0.1309415760172199,-0.13165469881713077,-0.11188819853545362,-0.13284327197303591,-0.13003049960102264,-0.1506521161014196,-0.13917520083063506,-0.13575855548351135,-0.1300398867601753,-0.15457346589724474,-0.15261856481794012,-0.12187158198910841,-0.12495528643067566,-0.11909291456302618,-0.15072847638920994,-0.14217616259050114,-0.12518253085900155],\"yaxis\":\"y\",\"type\":\"bar\"}],                        {\"template\":{\"data\":{\"histogram2dcontour\":[{\"type\":\"histogram2dcontour\",\"colorbar\":{\"outlinewidth\":0,\"ticks\":\"\"},\"colorscale\":[[0.0,\"#0d0887\"],[0.1111111111111111,\"#46039f\"],[0.2222222222222222,\"#7201a8\"],[0.3333333333333333,\"#9c179e\"],[0.4444444444444444,\"#bd3786\"],[0.5555555555555556,\"#d8576b\"],[0.6666666666666666,\"#ed7953\"],[0.7777777777777778,\"#fb9f3a\"],[0.8888888888888888,\"#fdca26\"],[1.0,\"#f0f921\"]]}],\"choropleth\":[{\"type\":\"choropleth\",\"colorbar\":{\"outlinewidth\":0,\"ticks\":\"\"}}],\"histogram2d\":[{\"type\":\"histogram2d\",\"colorbar\":{\"outlinewidth\":0,\"ticks\":\"\"},\"colorscale\":[[0.0,\"#0d0887\"],[0.1111111111111111,\"#46039f\"],[0.2222222222222222,\"#7201a8\"],[0.3333333333333333,\"#9c179e\"],[0.4444444444444444,\"#bd3786\"],[0.5555555555555556,\"#d8576b\"],[0.6666666666666666,\"#ed7953\"],[0.7777777777777778,\"#fb9f3a\"],[0.8888888888888888,\"#fdca26\"],[1.0,\"#f0f921\"]]}],\"heatmap\":[{\"type\":\"heatmap\",\"colorbar\":{\"outlinewidth\":0,\"ticks\":\"\"},\"colorscale\":[[0.0,\"#0d0887\"],[0.1111111111111111,\"#46039f\"],[0.2222222222222222,\"#7201a8\"],[0.3333333333333333,\"#9c179e\"],[0.4444444444444444,\"#bd3786\"],[0.5555555555555556,\"#d8576b\"],[0.6666666666666666,\"#ed7953\"],[0.7777777777777778,\"#fb9f3a\"],[0.8888888888888888,\"#fdca26\"],[1.0,\"#f0f921\"]]}],\"heatmapgl\":[{\"type\":\"heatmapgl\",\"colorbar\":{\"outlinewidth\":0,\"ticks\":\"\"},\"colorscale\":[[0.0,\"#0d0887\"],[0.1111111111111111,\"#46039f\"],[0.2222222222222222,\"#7201a8\"],[0.3333333333333333,\"#9c179e\"],[0.4444444444444444,\"#bd3786\"],[0.5555555555555556,\"#d8576b\"],[0.6666666666666666,\"#ed7953\"],[0.7777777777777778,\"#fb9f3a\"],[0.8888888888888888,\"#fdca26\"],[1.0,\"#f0f921\"]]}],\"contourcarpet\":[{\"type\":\"contourcarpet\",\"colorbar\":{\"outlinewidth\":0,\"ticks\":\"\"}}],\"contour\":[{\"type\":\"contour\",\"colorbar\":{\"outlinewidth\":0,\"ticks\":\"\"},\"colorscale\":[[0.0,\"#0d0887\"],[0.1111111111111111,\"#46039f\"],[0.2222222222222222,\"#7201a8\"],[0.3333333333333333,\"#9c179e\"],[0.4444444444444444,\"#bd3786\"],[0.5555555555555556,\"#d8576b\"],[0.6666666666666666,\"#ed7953\"],[0.7777777777777778,\"#fb9f3a\"],[0.8888888888888888,\"#fdca26\"],[1.0,\"#f0f921\"]]}],\"surface\":[{\"type\":\"surface\",\"colorbar\":{\"outlinewidth\":0,\"ticks\":\"\"},\"colorscale\":[[0.0,\"#0d0887\"],[0.1111111111111111,\"#46039f\"],[0.2222222222222222,\"#7201a8\"],[0.3333333333333333,\"#9c179e\"],[0.4444444444444444,\"#bd3786\"],[0.5555555555555556,\"#d8576b\"],[0.6666666666666666,\"#ed7953\"],[0.7777777777777778,\"#fb9f3a\"],[0.8888888888888888,\"#fdca26\"],[1.0,\"#f0f921\"]]}],\"mesh3d\":[{\"type\":\"mesh3d\",\"colorbar\":{\"outlinewidth\":0,\"ticks\":\"\"}}],\"scatter\":[{\"fillpattern\":{\"fillmode\":\"overlay\",\"size\":10,\"solidity\":0.2},\"type\":\"scatter\"}],\"parcoords\":[{\"type\":\"parcoords\",\"line\":{\"colorbar\":{\"outlinewidth\":0,\"ticks\":\"\"}}}],\"scatterpolargl\":[{\"type\":\"scatterpolargl\",\"marker\":{\"colorbar\":{\"outlinewidth\":0,\"ticks\":\"\"}}}],\"bar\":[{\"error_x\":{\"color\":\"#2a3f5f\"},\"error_y\":{\"color\":\"#2a3f5f\"},\"marker\":{\"line\":{\"color\":\"#E5ECF6\",\"width\":0.5},\"pattern\":{\"fillmode\":\"overlay\",\"size\":10,\"solidity\":0.2}},\"type\":\"bar\"}],\"scattergeo\":[{\"type\":\"scattergeo\",\"marker\":{\"colorbar\":{\"outlinewidth\":0,\"ticks\":\"\"}}}],\"scatterpolar\":[{\"type\":\"scatterpolar\",\"marker\":{\"colorbar\":{\"outlinewidth\":0,\"ticks\":\"\"}}}],\"histogram\":[{\"marker\":{\"pattern\":{\"fillmode\":\"overlay\",\"size\":10,\"solidity\":0.2}},\"type\":\"histogram\"}],\"scattergl\":[{\"type\":\"scattergl\",\"marker\":{\"colorbar\":{\"outlinewidth\":0,\"ticks\":\"\"}}}],\"scatter3d\":[{\"type\":\"scatter3d\",\"line\":{\"colorbar\":{\"outlinewidth\":0,\"ticks\":\"\"}},\"marker\":{\"colorbar\":{\"outlinewidth\":0,\"ticks\":\"\"}}}],\"scattermapbox\":[{\"type\":\"scattermapbox\",\"marker\":{\"colorbar\":{\"outlinewidth\":0,\"ticks\":\"\"}}}],\"scatterternary\":[{\"type\":\"scatterternary\",\"marker\":{\"colorbar\":{\"outlinewidth\":0,\"ticks\":\"\"}}}],\"scattercarpet\":[{\"type\":\"scattercarpet\",\"marker\":{\"colorbar\":{\"outlinewidth\":0,\"ticks\":\"\"}}}],\"carpet\":[{\"aaxis\":{\"endlinecolor\":\"#2a3f5f\",\"gridcolor\":\"white\",\"linecolor\":\"white\",\"minorgridcolor\":\"white\",\"startlinecolor\":\"#2a3f5f\"},\"baxis\":{\"endlinecolor\":\"#2a3f5f\",\"gridcolor\":\"white\",\"linecolor\":\"white\",\"minorgridcolor\":\"white\",\"startlinecolor\":\"#2a3f5f\"},\"type\":\"carpet\"}],\"table\":[{\"cells\":{\"fill\":{\"color\":\"#EBF0F8\"},\"line\":{\"color\":\"white\"}},\"header\":{\"fill\":{\"color\":\"#C8D4E3\"},\"line\":{\"color\":\"white\"}},\"type\":\"table\"}],\"barpolar\":[{\"marker\":{\"line\":{\"color\":\"#E5ECF6\",\"width\":0.5},\"pattern\":{\"fillmode\":\"overlay\",\"size\":10,\"solidity\":0.2}},\"type\":\"barpolar\"}],\"pie\":[{\"automargin\":true,\"type\":\"pie\"}]},\"layout\":{\"autotypenumbers\":\"strict\",\"colorway\":[\"#636efa\",\"#EF553B\",\"#00cc96\",\"#ab63fa\",\"#FFA15A\",\"#19d3f3\",\"#FF6692\",\"#B6E880\",\"#FF97FF\",\"#FECB52\"],\"font\":{\"color\":\"#2a3f5f\"},\"hovermode\":\"closest\",\"hoverlabel\":{\"align\":\"left\"},\"paper_bgcolor\":\"white\",\"plot_bgcolor\":\"#E5ECF6\",\"polar\":{\"bgcolor\":\"#E5ECF6\",\"angularaxis\":{\"gridcolor\":\"white\",\"linecolor\":\"white\",\"ticks\":\"\"},\"radialaxis\":{\"gridcolor\":\"white\",\"linecolor\":\"white\",\"ticks\":\"\"}},\"ternary\":{\"bgcolor\":\"#E5ECF6\",\"aaxis\":{\"gridcolor\":\"white\",\"linecolor\":\"white\",\"ticks\":\"\"},\"baxis\":{\"gridcolor\":\"white\",\"linecolor\":\"white\",\"ticks\":\"\"},\"caxis\":{\"gridcolor\":\"white\",\"linecolor\":\"white\",\"ticks\":\"\"}},\"coloraxis\":{\"colorbar\":{\"outlinewidth\":0,\"ticks\":\"\"}},\"colorscale\":{\"sequential\":[[0.0,\"#0d0887\"],[0.1111111111111111,\"#46039f\"],[0.2222222222222222,\"#7201a8\"],[0.3333333333333333,\"#9c179e\"],[0.4444444444444444,\"#bd3786\"],[0.5555555555555556,\"#d8576b\"],[0.6666666666666666,\"#ed7953\"],[0.7777777777777778,\"#fb9f3a\"],[0.8888888888888888,\"#fdca26\"],[1.0,\"#f0f921\"]],\"sequentialminus\":[[0.0,\"#0d0887\"],[0.1111111111111111,\"#46039f\"],[0.2222222222222222,\"#7201a8\"],[0.3333333333333333,\"#9c179e\"],[0.4444444444444444,\"#bd3786\"],[0.5555555555555556,\"#d8576b\"],[0.6666666666666666,\"#ed7953\"],[0.7777777777777778,\"#fb9f3a\"],[0.8888888888888888,\"#fdca26\"],[1.0,\"#f0f921\"]],\"diverging\":[[0,\"#8e0152\"],[0.1,\"#c51b7d\"],[0.2,\"#de77ae\"],[0.3,\"#f1b6da\"],[0.4,\"#fde0ef\"],[0.5,\"#f7f7f7\"],[0.6,\"#e6f5d0\"],[0.7,\"#b8e186\"],[0.8,\"#7fbc41\"],[0.9,\"#4d9221\"],[1,\"#276419\"]]},\"xaxis\":{\"gridcolor\":\"white\",\"linecolor\":\"white\",\"ticks\":\"\",\"title\":{\"standoff\":15},\"zerolinecolor\":\"white\",\"automargin\":true,\"zerolinewidth\":2},\"yaxis\":{\"gridcolor\":\"white\",\"linecolor\":\"white\",\"ticks\":\"\",\"title\":{\"standoff\":15},\"zerolinecolor\":\"white\",\"automargin\":true,\"zerolinewidth\":2},\"scene\":{\"xaxis\":{\"backgroundcolor\":\"#E5ECF6\",\"gridcolor\":\"white\",\"linecolor\":\"white\",\"showbackground\":true,\"ticks\":\"\",\"zerolinecolor\":\"white\",\"gridwidth\":2},\"yaxis\":{\"backgroundcolor\":\"#E5ECF6\",\"gridcolor\":\"white\",\"linecolor\":\"white\",\"showbackground\":true,\"ticks\":\"\",\"zerolinecolor\":\"white\",\"gridwidth\":2},\"zaxis\":{\"backgroundcolor\":\"#E5ECF6\",\"gridcolor\":\"white\",\"linecolor\":\"white\",\"showbackground\":true,\"ticks\":\"\",\"zerolinecolor\":\"white\",\"gridwidth\":2}},\"shapedefaults\":{\"line\":{\"color\":\"#2a3f5f\"}},\"annotationdefaults\":{\"arrowcolor\":\"#2a3f5f\",\"arrowhead\":0,\"arrowwidth\":1},\"geo\":{\"bgcolor\":\"white\",\"landcolor\":\"#E5ECF6\",\"subunitcolor\":\"white\",\"showland\":true,\"showlakes\":true,\"lakecolor\":\"white\"},\"title\":{\"x\":0.05},\"mapbox\":{\"style\":\"light\"}}},\"xaxis\":{\"anchor\":\"y\",\"domain\":[0.0,1.0],\"title\":{\"text\":\"Removed Feature\"},\"tickmode\":\"array\",\"tickvals\":[0,10,20,30,40,50,60,70,80,90,100,110,120,130,140,150,160,170],\"ticktext\":[\"F1\",\"F11\",\"F21\",\"F31\",\"F41\",\"F51\",\"F61\",\"F71\",\"F81\",\"F91\",\"F101\",\"F111\",\"F121\",\"F131\",\"F141\",\"F151\",\"F161\",\"F171\"]},\"yaxis\":{\"anchor\":\"x\",\"domain\":[0.0,1.0],\"title\":{\"text\":\"Change in F-Score\"}},\"coloraxis\":{\"colorbar\":{\"title\":{\"text\":\"F-Score change\"}},\"colorscale\":[[0.0,\"rgb(165,0,38)\"],[0.1,\"rgb(215,48,39)\"],[0.2,\"rgb(244,109,67)\"],[0.3,\"rgb(253,174,97)\"],[0.4,\"rgb(254,224,139)\"],[0.5,\"rgb(255,255,191)\"],[0.6,\"rgb(217,239,139)\"],[0.7,\"rgb(166,217,106)\"],[0.8,\"rgb(102,189,99)\"],[0.9,\"rgb(26,152,80)\"],[1.0,\"rgb(0,104,55)\"]]},\"legend\":{\"tracegroupgap\":0},\"title\":{\"text\":\"Effect of Feature Removal on F-Score\"},\"barmode\":\"relative\",\"shapes\":[{\"line\":{\"color\":\"black\",\"dash\":\"solid\"},\"type\":\"line\",\"x0\":0,\"x1\":1,\"xref\":\"x domain\",\"y0\":0,\"y1\":0,\"yref\":\"y\"}],\"annotations\":[{\"showarrow\":false,\"text\":\"Baseline F-Score: 0.75\",\"x\":0,\"xanchor\":\"left\",\"xref\":\"x domain\",\"y\":0,\"yanchor\":\"bottom\",\"yref\":\"y\"}],\"margin\":{\"l\":40,\"r\":40,\"t\":40,\"b\":100},\"height\":600},                        {\"responsive\": true}                    ).then(function(){\n",
       "                            \n",
       "var gd = document.getElementById('3ee66699-34db-49c1-836b-874eaf81fa14');\n",
       "var x = new MutationObserver(function (mutations, observer) {{\n",
       "        var display = window.getComputedStyle(gd).display;\n",
       "        if (!display || display === 'none') {{\n",
       "            console.log([gd, 'removed!']);\n",
       "            Plotly.purge(gd);\n",
       "            observer.disconnect();\n",
       "        }}\n",
       "}});\n",
       "\n",
       "// Listen for the removal of the full notebook cells\n",
       "var notebookContainer = gd.closest('#notebook-container');\n",
       "if (notebookContainer) {{\n",
       "    x.observe(notebookContainer, {childList: true});\n",
       "}}\n",
       "\n",
       "// Listen for the clearing of the current output cell\n",
       "var outputEl = gd.closest('.output');\n",
       "if (outputEl) {{\n",
       "    x.observe(outputEl, {childList: true});\n",
       "}}\n",
       "\n",
       "                        })                };                });            </script>        </div>"
      ]
     },
     "metadata": {},
     "output_type": "display_data"
    }
   ],
   "execution_count": 51
  }
 ],
 "metadata": {
  "kernelspec": {
   "display_name": "txmm",
   "language": "python",
   "name": "python3"
  },
  "language_info": {
   "codemirror_mode": {
    "name": "ipython",
    "version": 3
   },
   "file_extension": ".py",
   "mimetype": "text/x-python",
   "name": "python",
   "nbconvert_exporter": "python",
   "pygments_lexer": "ipython3",
   "version": "3.12.6"
  }
 },
 "nbformat": 4,
 "nbformat_minor": 5
}
